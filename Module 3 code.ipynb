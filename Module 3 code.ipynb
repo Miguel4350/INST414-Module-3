{
 "cells": [
  {
   "cell_type": "code",
   "execution_count": 12,
   "metadata": {},
   "outputs": [],
   "source": [
    "import requests\n",
    "from bs4 import BeautifulSoup\n",
    "\n",
    "def scrape_vid_data(vid_url):\n",
    "    response = requests.get(vid_url)\n",
    "    soup = BeautifulSoup(response.text, 'html.parser')\n",
    "\n",
    "    # Extracting metadata\n",
    "    title = soup.find('meta', {'name': 'title'})['content']\n",
    "    description = soup.find('meta', {'name': 'description'})['content']\n",
    "    views = soup.find('meta', {'itemprop': 'interactionCount'})['content']\n",
    "    \n",
    "    #parsing for tags - needed for HTML\n",
    "    tags = soup.find('meta', {'name': 'keywords'})['content'] if soup.find('meta', {'name': 'keywords'}) else \"\"\n",
    "    return {\n",
    "        'title': title,\n",
    "        'description': description,\n",
    "        'tags': tags,\n",
    "        'views': int(views)\n",
    "    }\n",
    "\n",
    "#Scraping video URLs\n",
    "vid_urls = [\n",
    "    \"https://www.youtube.com/watch?v=B4Q_dlfQFyg\",\n",
    "    \"https://www.youtube.com/watch?v=rrAbtDOXkfk\",\n",
    "]\n",
    "\n",
    "data = [scrape_vid_data(url) for url in vid_urls]\n"
   ]
  },
  {
   "cell_type": "code",
   "execution_count": 13,
   "metadata": {},
   "outputs": [],
   "source": [
    "from sklearn.feature_extraction.text import TfidfVectorizer\n",
    "from sklearn.preprocessing import MinMaxScaler\n",
    "from sklearn.metrics.pairwise import cosine_similarity\n",
    "import pandas as pd\n",
    "\n",
    "#Converting scraped data to DataFrame\n",
    "df = pd.DataFrame(data)\n",
    "\n",
    "#Combining textual fields\n",
    "df['text'] = df['title'] + \" \" + df['description'] + \" \" + df['tags']\n",
    "\n",
    "# Textual similarity\n",
    "vectorizer = TfidfVectorizer(stop_words='english')\n",
    "tfidf_matrix = vectorizer.fit_transform(df['text'])\n",
    "\n",
    "# Normalizing numerical features\n",
    "scaler = MinMaxScaler()\n",
    "df[['views']] = scaler.fit_transform(df[['views']])"
   ]
  },
  {
   "cell_type": "code",
   "execution_count": 17,
   "metadata": {},
   "outputs": [
    {
     "name": "stdout",
     "output_type": "stream",
     "text": [
      "Top 10 similar videos for 'NEW BMW M5 vs Audi RS7 Performance vs AMG E63 S // DRAG & ROLL RACE':\n",
      "                                   title  views\n",
      "0  2025 BMW M5 Review // We Need To Talk    0.0\n"
     ]
    }
   ],
   "source": [
    "from sklearn.metrics import pairwise_distances\n",
    "\n",
    "# Calculating similarities\n",
    "text_similarity = cosine_similarity(tfidf_matrix)\n",
    "num_similarity = 1 / (1 + pairwise_distances(df[['views']], metric='euclidean'))\n",
    "\n",
    "# Composite similarity score\n",
    "comp_similarity = 0.7 * text_similarity + 0.3 * num_similarity\n",
    "\n",
    "# Attempt to find top 10 most similar videos for each query. It shows 1 :/\n",
    "query_indices = [1] \n",
    "for idx in query_indices:\n",
    "    similar_indices = comp_similarity[idx].argsort()[-11:-1][::-1]\n",
    "    print(f\"Top 10 similar videos for '{df.iloc[idx]['title']}':\")\n",
    "    print(df.iloc[similar_indices][['title', 'views']])"
   ]
  },
  {
   "cell_type": "code",
   "execution_count": null,
   "metadata": {},
   "outputs": [],
   "source": []
  }
 ],
 "metadata": {
  "kernelspec": {
   "display_name": "base",
   "language": "python",
   "name": "python3"
  },
  "language_info": {
   "codemirror_mode": {
    "name": "ipython",
    "version": 3
   },
   "file_extension": ".py",
   "mimetype": "text/x-python",
   "name": "python",
   "nbconvert_exporter": "python",
   "pygments_lexer": "ipython3",
   "version": "3.11.5"
  }
 },
 "nbformat": 4,
 "nbformat_minor": 2
}
